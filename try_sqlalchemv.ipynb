{
 "cells": [
  {
   "cell_type": "code",
   "execution_count": 2,
   "metadata": {},
   "outputs": [],
   "source": [
    "from sqlalchemy import create_engine\n",
    "from sqlalchemy.orm import Session\n",
    "from test_model import Person"
   ]
  },
  {
   "cell_type": "code",
   "execution_count": 3,
   "metadata": {},
   "outputs": [],
   "source": [
    "engine = create_engine('sqlite:///test_db', echo=True)\n",
    "session = Session(engine)"
   ]
  },
  {
   "cell_type": "code",
   "execution_count": 4,
   "metadata": {},
   "outputs": [
    {
     "name": "stdout",
     "output_type": "stream",
     "text": [
      "2024-06-22 14:12:49,788 INFO sqlalchemy.engine.Engine BEGIN (implicit)\n",
      "2024-06-22 14:12:49,801 INFO sqlalchemy.engine.Engine SELECT person.id AS person_id, person.name AS person_name, person.size AS person_size \n",
      "FROM person\n",
      "2024-06-22 14:12:49,802 INFO sqlalchemy.engine.Engine [generated in 0.00114s] ()\n"
     ]
    }
   ],
   "source": [
    "persons = session.query(Person).all()"
   ]
  },
  {
   "cell_type": "code",
   "execution_count": 5,
   "metadata": {},
   "outputs": [
    {
     "name": "stdout",
     "output_type": "stream",
     "text": [
      "id:1 name:changed_name size:10.5\n",
      "id:3 name:c_update size:3.14\n",
      "id:100 name:name_z size:99.9\n"
     ]
    }
   ],
   "source": [
    "for person in persons:\n",
    "    print(f'id:{person.id} name:{person.name} size:{person.size}')"
   ]
  },
  {
   "cell_type": "code",
   "execution_count": 6,
   "metadata": {},
   "outputs": [],
   "source": [
    "new_person = Person(id=4, name='from_model', size=100)\n",
    "session.add(new_person)"
   ]
  },
  {
   "cell_type": "code",
   "execution_count": 7,
   "metadata": {},
   "outputs": [
    {
     "name": "stdout",
     "output_type": "stream",
     "text": [
      "2024-06-22 14:20:07,027 INFO sqlalchemy.engine.Engine INSERT INTO person (id, name, size) VALUES (?, ?, ?)\n",
      "2024-06-22 14:20:07,033 INFO sqlalchemy.engine.Engine [generated in 0.00572s] (4, 'from_model', 100.0)\n",
      "2024-06-22 14:20:07,036 INFO sqlalchemy.engine.Engine COMMIT\n"
     ]
    }
   ],
   "source": [
    "session.commit()"
   ]
  },
  {
   "cell_type": "code",
   "execution_count": 8,
   "metadata": {},
   "outputs": [
    {
     "name": "stdout",
     "output_type": "stream",
     "text": [
      "2024-06-22 14:21:46,439 INFO sqlalchemy.engine.Engine BEGIN (implicit)\n",
      "2024-06-22 14:21:46,441 INFO sqlalchemy.engine.Engine SELECT person.id AS person_id, person.name AS person_name, person.size AS person_size \n",
      "FROM person\n",
      "2024-06-22 14:21:46,442 INFO sqlalchemy.engine.Engine [cached since 536.6s ago] ()\n",
      "{'_sa_instance_state': <sqlalchemy.orm.state.InstanceState object at 0x7f33e92f7be0>, 'id': 1, 'name': 'changed_name', 'size': 10.5}\n",
      "{'_sa_instance_state': <sqlalchemy.orm.state.InstanceState object at 0x7f33e9503be0>, 'id': 3, 'name': 'c_update', 'size': 3.14}\n",
      "{'_sa_instance_state': <sqlalchemy.orm.state.InstanceState object at 0x7f33e929e320>, 'id': 4, 'name': 'from_model', 'size': 100.0}\n",
      "{'_sa_instance_state': <sqlalchemy.orm.state.InstanceState object at 0x7f33e9503d90>, 'id': 100, 'name': 'name_z', 'size': 99.9}\n"
     ]
    }
   ],
   "source": [
    "persons = session.query(Person).all()\n",
    "for person in persons:\n",
    "    print(person.__dict__)"
   ]
  },
  {
   "cell_type": "code",
   "execution_count": 9,
   "metadata": {},
   "outputs": [
    {
     "name": "stdout",
     "output_type": "stream",
     "text": [
      "2024-06-22 14:42:26,410 INFO sqlalchemy.engine.Engine SELECT person.id AS person_id, person.name AS person_name, person.size AS person_size \n",
      "FROM person \n",
      "WHERE person.id = ?\n",
      " LIMIT ? OFFSET ?\n",
      "2024-06-22 14:42:26,416 INFO sqlalchemy.engine.Engine [generated in 0.00715s] (4, 1, 0)\n"
     ]
    }
   ],
   "source": [
    "person4 = session.query(Person).filter(Person.id==4).first()"
   ]
  },
  {
   "cell_type": "code",
   "execution_count": 10,
   "metadata": {},
   "outputs": [],
   "source": [
    "person4.size = 2.236"
   ]
  },
  {
   "cell_type": "code",
   "execution_count": 11,
   "metadata": {},
   "outputs": [
    {
     "name": "stdout",
     "output_type": "stream",
     "text": [
      "2024-06-22 14:42:56,206 INFO sqlalchemy.engine.Engine UPDATE person SET size=? WHERE person.id = ?\n",
      "2024-06-22 14:42:56,208 INFO sqlalchemy.engine.Engine [generated in 0.00220s] (2.236, 4)\n",
      "2024-06-22 14:42:56,218 INFO sqlalchemy.engine.Engine COMMIT\n"
     ]
    }
   ],
   "source": [
    "session.commit()"
   ]
  },
  {
   "cell_type": "code",
   "execution_count": 12,
   "metadata": {},
   "outputs": [
    {
     "name": "stdout",
     "output_type": "stream",
     "text": [
      "2024-06-22 14:43:42,646 INFO sqlalchemy.engine.Engine BEGIN (implicit)\n",
      "2024-06-22 14:43:42,658 INFO sqlalchemy.engine.Engine DELETE FROM person WHERE person.size > ?\n",
      "2024-06-22 14:43:42,680 INFO sqlalchemy.engine.Engine [generated in 0.02194s] (10,)\n"
     ]
    },
    {
     "data": {
      "text/plain": [
       "2"
      ]
     },
     "execution_count": 12,
     "metadata": {},
     "output_type": "execute_result"
    }
   ],
   "source": [
    "session.query(Person).filter(Person.size>10).delete()"
   ]
  },
  {
   "cell_type": "code",
   "execution_count": 13,
   "metadata": {},
   "outputs": [
    {
     "name": "stdout",
     "output_type": "stream",
     "text": [
      "2024-06-22 14:44:33,743 INFO sqlalchemy.engine.Engine DELETE FROM person WHERE person.size > ?\n",
      "2024-06-22 14:44:33,746 INFO sqlalchemy.engine.Engine [cached since 51.09s ago] (10,)\n"
     ]
    },
    {
     "data": {
      "text/plain": [
       "0"
      ]
     },
     "execution_count": 13,
     "metadata": {},
     "output_type": "execute_result"
    }
   ],
   "source": [
    "session.query(Person).filter(Person.size>10).delete()"
   ]
  },
  {
   "cell_type": "code",
   "execution_count": 14,
   "metadata": {},
   "outputs": [
    {
     "name": "stdout",
     "output_type": "stream",
     "text": [
      "2024-06-22 14:44:44,409 INFO sqlalchemy.engine.Engine COMMIT\n"
     ]
    }
   ],
   "source": [
    "session.commit()"
   ]
  },
  {
   "cell_type": "code",
   "execution_count": 15,
   "metadata": {},
   "outputs": [
    {
     "name": "stdout",
     "output_type": "stream",
     "text": [
      "2024-06-22 14:46:06,401 INFO sqlalchemy.engine.Engine BEGIN (implicit)\n",
      "2024-06-22 14:46:06,404 INFO sqlalchemy.engine.Engine SELECT * FROM person WHERE id=?\n",
      "2024-06-22 14:46:06,405 INFO sqlalchemy.engine.Engine [generated in 0.00187s] (4,)\n"
     ]
    }
   ],
   "source": [
    "result_list = session.execute('SELECT * FROM person WHERE id=:id', {\"id\":4})"
   ]
  },
  {
   "cell_type": "code",
   "execution_count": 16,
   "metadata": {},
   "outputs": [
    {
     "name": "stdout",
     "output_type": "stream",
     "text": [
      "(4, 'from_model', 2.236)\n"
     ]
    }
   ],
   "source": [
    "for result in result_list:\n",
    "    print(result)"
   ]
  },
  {
   "cell_type": "code",
   "execution_count": 17,
   "metadata": {},
   "outputs": [
    {
     "name": "stdout",
     "output_type": "stream",
     "text": [
      "2024-06-22 14:46:42,625 INFO sqlalchemy.engine.Engine ROLLBACK\n"
     ]
    }
   ],
   "source": [
    "session.close()"
   ]
  },
  {
   "cell_type": "code",
   "execution_count": null,
   "metadata": {},
   "outputs": [],
   "source": []
  }
 ],
 "metadata": {
  "kernelspec": {
   "display_name": "venv",
   "language": "python",
   "name": "python3"
  },
  "language_info": {
   "codemirror_mode": {
    "name": "ipython",
    "version": 3
   },
   "file_extension": ".py",
   "mimetype": "text/x-python",
   "name": "python",
   "nbconvert_exporter": "python",
   "pygments_lexer": "ipython3",
   "version": "3.10.6"
  }
 },
 "nbformat": 4,
 "nbformat_minor": 2
}
